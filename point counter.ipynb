{
 "cells": [
  {
   "cell_type": "code",
   "execution_count": 1,
   "metadata": {},
   "outputs": [],
   "source": [
    "Red = []\n",
    "Blue = []\n",
    "\n",
    "def counter():\n",
    "    count = 'start'\n",
    "    while count not in ['R','B']:\n",
    "        count = input('point to : ').upper()\n",
    "        if count not in ['R','B']:\n",
    "            print('please type in R or B for Red and Blue')\n",
    "       \n",
    "    if count == 'R':\n",
    "        Red.append('r')\n",
    "        \n",
    "    elif count == 'B':\n",
    "        Blue.append('b')\n",
    "                     \n",
    "    return len(Red),len(Blue)"
   ]
  },
  {
   "cell_type": "code",
   "execution_count": 2,
   "metadata": {},
   "outputs": [
    {
     "name": "stdout",
     "output_type": "stream",
     "text": [
      "point to : r\n"
     ]
    },
    {
     "data": {
      "text/plain": [
       "(1, 0)"
      ]
     },
     "execution_count": 2,
     "metadata": {},
     "output_type": "execute_result"
    }
   ],
   "source": [
    "counter()"
   ]
  },
  {
   "cell_type": "code",
   "execution_count": 3,
   "metadata": {},
   "outputs": [],
   "source": [
    "def current_game(red,blue):\n",
    "    print(f'the current game is Red:{red} - Blue:{blue}')"
   ]
  },
  {
   "cell_type": "code",
   "execution_count": 4,
   "metadata": {},
   "outputs": [
    {
     "name": "stdout",
     "output_type": "stream",
     "text": [
      "the current game is Red:1 - Blue:2\n"
     ]
    }
   ],
   "source": [
    "current_game(1,2)"
   ]
  },
  {
   "cell_type": "code",
   "execution_count": 5,
   "metadata": {},
   "outputs": [],
   "source": [
    "def win_check(red,blue):\n",
    "    return red == 11 or blue == 11"
   ]
  },
  {
   "cell_type": "code",
   "execution_count": 6,
   "metadata": {},
   "outputs": [
    {
     "data": {
      "text/plain": [
       "True"
      ]
     },
     "execution_count": 6,
     "metadata": {},
     "output_type": "execute_result"
    }
   ],
   "source": [
    "win_check(11,10)"
   ]
  },
  {
   "cell_type": "code",
   "execution_count": 7,
   "metadata": {},
   "outputs": [],
   "source": [
    "def due_check(red,blue):\n",
    "    return red == 10 and blue == 10"
   ]
  },
  {
   "cell_type": "code",
   "execution_count": 8,
   "metadata": {},
   "outputs": [
    {
     "data": {
      "text/plain": [
       "True"
      ]
     },
     "execution_count": 8,
     "metadata": {},
     "output_type": "execute_result"
    }
   ],
   "source": [
    "due_check(10,10)"
   ]
  },
  {
   "cell_type": "code",
   "execution_count": 9,
   "metadata": {},
   "outputs": [],
   "source": [
    "def due_winner(red,blue):\n",
    "    return abs(red - blue) == 2"
   ]
  },
  {
   "cell_type": "code",
   "execution_count": 10,
   "metadata": {},
   "outputs": [
    {
     "data": {
      "text/plain": [
       "True"
      ]
     },
     "execution_count": 10,
     "metadata": {},
     "output_type": "execute_result"
    }
   ],
   "source": [
    "due_winner(0,2)"
   ]
  },
  {
   "cell_type": "code",
   "execution_count": 11,
   "metadata": {},
   "outputs": [],
   "source": [
    "def new_game():\n",
    "    choice = 'start'\n",
    "    while choice not in ['Y','N']:\n",
    "        choice = input('do you want to play new game? (Y,N): ').upper()\n",
    "        if choice not in ['Y','N']:\n",
    "            print('you can type only Y or N')\n",
    "    if choice == 'Y':\n",
    "        return True\n",
    "    if choice == 'N':\n",
    "        return False"
   ]
  },
  {
   "cell_type": "code",
   "execution_count": 12,
   "metadata": {},
   "outputs": [
    {
     "name": "stdout",
     "output_type": "stream",
     "text": [
      "do you want to play new game? (Y,N): y\n"
     ]
    },
    {
     "data": {
      "text/plain": [
       "True"
      ]
     },
     "execution_count": 12,
     "metadata": {},
     "output_type": "execute_result"
    }
   ],
   "source": [
    "new_game()"
   ]
  },
  {
   "cell_type": "code",
   "execution_count": null,
   "metadata": {},
   "outputs": [
    {
     "name": "stdout",
     "output_type": "stream",
     "text": [
      "the current game is Red:5 - Blue:3\n",
      "the winner is red team\n"
     ]
    }
   ],
   "source": [
    "from IPython.display import clear_output\n",
    "\n",
    "game_on = True\n",
    "while game_on:\n",
    "    clear_output()\n",
    "    print('welcome to point counter')\n",
    "    print('the first one who get 11 scores is the winner')\n",
    "    current_game(0,0)\n",
    "    Red = []\n",
    "    Blue = []\n",
    "    red,blue = counter()\n",
    "    \n",
    "    a = True\n",
    "    while a:\n",
    "        clear_output()\n",
    "        current_game(red,blue)\n",
    "        red,blue = counter()\n",
    "        \n",
    "        if due_check(red,blue):\n",
    "            clear_output()\n",
    "            print('lets due')\n",
    "            current_game(0,0)\n",
    "            Red = []\n",
    "            Blue = []\n",
    "            red,blue = counter()\n",
    "            while abs(red - blue) < 3:\n",
    "                clear_output()\n",
    "                print('lets due')\n",
    "                current_game(red,blue)\n",
    "                red,blue = counter()\n",
    "                if due_winner(red,blue):\n",
    "                    if red - blue == 2:\n",
    "                        clear_output()\n",
    "                        current_game(red,blue)\n",
    "                        print('the winner is red team')\n",
    "                        a = False\n",
    "                        break\n",
    "                    elif blue - red == 2:\n",
    "                        clear_output()\n",
    "                        current_game(red,blue)\n",
    "                        print('the winner is blue team')\n",
    "                        a = False\n",
    "                        break\n",
    "                    else:\n",
    "                        continue\n",
    "                \n",
    "        if win_check(red,blue):\n",
    "            if red == 11:\n",
    "                clear_output()\n",
    "                current_game(red,blue)\n",
    "                print('the winner is red team')\n",
    "                break\n",
    "            elif blue == 11:\n",
    "                clear_output()\n",
    "                current_game(red,blue)\n",
    "                print('the winner is blue team')\n",
    "                break\n",
    "            else:\n",
    "                continue\n",
    "                \n",
    "    game_on = new_game()    "
   ]
  },
  {
   "cell_type": "code",
   "execution_count": null,
   "metadata": {},
   "outputs": [],
   "source": []
  }
 ],
 "metadata": {
  "kernelspec": {
   "display_name": "Python 3",
   "language": "python",
   "name": "python3"
  },
  "language_info": {
   "codemirror_mode": {
    "name": "ipython",
    "version": 3
   },
   "file_extension": ".py",
   "mimetype": "text/x-python",
   "name": "python",
   "nbconvert_exporter": "python",
   "pygments_lexer": "ipython3",
   "version": "3.8.3"
  }
 },
 "nbformat": 4,
 "nbformat_minor": 4
}
